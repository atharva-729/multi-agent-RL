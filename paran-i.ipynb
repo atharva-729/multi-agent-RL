{
 "cells": [
  {
   "cell_type": "code",
   "execution_count": 2,
   "id": "3a75b45a",
   "metadata": {},
   "outputs": [
    {
     "name": "stdout",
     "output_type": "stream",
     "text": [
      "Serial port error: could not open port 'COM8': OSError(22, 'The semaphore timeout period has expired.', None, 121)\n",
      "Make sure COM8 is the correct port and it's not already in use.\n"
     ]
    }
   ],
   "source": [
    "import serial\n",
    "import time\n",
    "# import serial.tools.list_ports # This is no longer needed if we hardcode the port\n",
    "\n",
    "# --- Configuration ---\n",
    "# BLUETOOTH_NAME = \"HC-05\" # No longer strictly needed for direct port assignment\n",
    "BAUD_RATE = 9600 # Must match the baud rate set in your Arduino code (bluetoothSerial.begin())\n",
    "\n",
    "# --- Hardcode the COM port for the HC-05 ---\n",
    "# You found it's COM8, so we'll use that directly.\n",
    "# If you ever change laptops or HC-05s, you might need to find a new port.\n",
    "serial_port = \"COM8\" \n",
    "\n",
    "# --- Open Serial Connection to the HC-05 ---\n",
    "try:\n",
    "    # Open the serial port with the specified baud rate and a timeout for reading\n",
    "    ser = serial.Serial(serial_port, BAUD_RATE, timeout=1) \n",
    "    print(f\"Successfully connected to HC-05 on: {ser.portstr}\")\n",
    "    print(\"\\n--- Communication Ready ---\")\n",
    "    print(\"Type messages below and press Enter to send to Arduino.\")\n",
    "    print(\"Type 'quit' to exit the program.\")\n",
    "\n",
    "    while True:\n",
    "        # --- Send data from Laptop to Arduino ---\n",
    "        user_input = input(\"Laptop (Send to Arduino): \")\n",
    "        if user_input.lower() == 'quit':\n",
    "            break # Exit loop if user types 'quit'\n",
    "\n",
    "        # Send the user's input to Arduino.\n",
    "        # .encode() converts the string to bytes (required for serial communication).\n",
    "        # \\n (newline) is important because Arduino's readStringUntil('\\n') looks for it.\n",
    "        ser.write(f\"{user_input}\\n\".encode()) \n",
    "\n",
    "        # --- Read data from Arduino ---\n",
    "        # Check if there's any incoming data from the Arduino in the buffer\n",
    "        while ser.in_waiting > 0:\n",
    "            # Read a line from the serial port.\n",
    "            # .decode('utf-8') converts bytes to a string.\n",
    "            # .strip() removes leading/trailing whitespace (like newline characters).\n",
    "            line = ser.readline().decode('utf-8').strip()\n",
    "            if line: # Print only if the line is not empty\n",
    "                print(f\"Arduino (Received on Laptop): {line}\")\n",
    "        \n",
    "        time.sleep(0.1) # Small delay to prevent constantly hammering the CPU\n",
    "\n",
    "except serial.SerialException as e:\n",
    "    print(f\"Serial port error: {e}\")\n",
    "    print(f\"Make sure {serial_port} is the correct port and it's not already in use.\")\n",
    "except KeyboardInterrupt:\n",
    "    print(\"\\nProgram interrupted by user.\")\n",
    "finally:\n",
    "    # Ensure the serial port is closed when the script exits\n",
    "    if 'ser' in locals() and ser.is_open:\n",
    "        ser.close()\n",
    "        print(\"Serial port closed.\")"
   ]
  },
  {
   "cell_type": "code",
   "execution_count": null,
   "id": "d94f86f7",
   "metadata": {},
   "outputs": [],
   "source": []
  },
  {
   "cell_type": "code",
   "execution_count": null,
   "id": "7c75e0a4",
   "metadata": {},
   "outputs": [],
   "source": []
  }
 ],
 "metadata": {
  "kernelspec": {
   "display_name": "Python 3 (ipykernel)",
   "language": "python",
   "name": "python3"
  },
  "language_info": {
   "codemirror_mode": {
    "name": "ipython",
    "version": 3
   },
   "file_extension": ".py",
   "mimetype": "text/x-python",
   "name": "python",
   "nbconvert_exporter": "python",
   "pygments_lexer": "ipython3",
   "version": "3.11.3"
  }
 },
 "nbformat": 4,
 "nbformat_minor": 5
}
