{
 "cells": [
  {
   "cell_type": "code",
   "execution_count": 8,
   "id": "9eb561df",
   "metadata": {},
   "outputs": [],
   "source": [
    "import cv2\n",
    "import numpy as np\n",
    "\n",
    "# Load image\n",
    "img = cv2.imread('tape.jpg')\n",
    "gray = cv2.cvtColor(img, cv2.COLOR_BGR2GRAY)\n",
    "\n",
    "# Thresholding to binarize (can also try Canny)\n",
    "_, binary = cv2.threshold(gray, 100, 255, cv2.THRESH_BINARY_INV)\n",
    "\n",
    "# Optional: Resize or crop to focus\n",
    "# binary = cv2.resize(binary, (500, 500))\n"
   ]
  },
  {
   "cell_type": "code",
   "execution_count": 9,
   "id": "f18025f4",
   "metadata": {},
   "outputs": [],
   "source": [
    "# Remove small noise\n",
    "kernel = np.ones((3, 3), np.uint8)\n",
    "cleaned = cv2.morphologyEx(binary, cv2.MORPH_OPEN, kernel)\n",
    "\n",
    "# Contours can be extracted if needed\n",
    "contours, _ = cv2.findContours(cleaned, cv2.RETR_EXTERNAL, cv2.CHAIN_APPROX_SIMPLE)\n"
   ]
  },
  {
   "cell_type": "code",
   "execution_count": 10,
   "id": "31b39902",
   "metadata": {},
   "outputs": [],
   "source": [
    "grid = cv2.resize(cleaned, (100, 100))\n",
    "grid = grid // 255  # Now 0 (free) or 1 (occupied)\n"
   ]
  },
  {
   "cell_type": "code",
   "execution_count": 11,
   "id": "bc64a01d",
   "metadata": {},
   "outputs": [],
   "source": [
    "np.save(\"environment_map.npy\", grid)\n"
   ]
  },
  {
   "cell_type": "code",
   "execution_count": 12,
   "id": "df8f437f",
   "metadata": {},
   "outputs": [],
   "source": [
    "import numpy as np\n",
    "import matplotlib.pyplot as plt\n"
   ]
  },
  {
   "cell_type": "code",
   "execution_count": 13,
   "id": "c00f2216",
   "metadata": {},
   "outputs": [
    {
     "data": {
      "image/png": "[encoded data removed]",
      "text/plain": [
       "<Figure size 640x480 with 1 Axes>"
      ]
     },
     "metadata": {},
     "output_type": "display_data"
    }
   ],
   "source": [
    "occupancy_map = np.load('environment_map.npy')  # or whatever file you're using\n",
    "\n",
    "plt.imshow(occupancy_map, cmap='Greys')  # black = obstacle, white = free\n",
    "plt.title(\"Environment Map\")\n",
    "plt.xlabel(\"X\")\n",
    "plt.ylabel(\"Y\")\n",
    "plt.show()"
   ]
  },
  {
   "cell_type": "code",
   "execution_count": null,
   "id": "807452d9",
   "metadata": {},
   "outputs": [],
   "source": []
  }
 ],
 "metadata": {
  "kernelspec": {
   "display_name": "Python 3 (ipykernel)",
   "language": "python",
   "name": "python3"
  },
  "language_info": {
   "codemirror_mode": {
    "name": "ipython",
    "version": 3
   },
   "file_extension": ".py",
   "mimetype": "text/x-python",
   "name": "python",
   "nbconvert_exporter": "python",
   "pygments_lexer": "ipython3",
   "version": "3.11.3"
  }
 },
 "nbformat": 4,
 "nbformat_minor": 5
}
