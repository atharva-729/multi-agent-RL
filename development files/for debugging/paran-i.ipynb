{
 "cells": [
  {
   "cell_type": "code",
   "execution_count": null,
   "id": "7c75e0a4",
   "metadata": {},
   "outputs": [],
   "source": [
    "import serial\n",
    "import time\n",
    "\n",
    "# Connect to HC-05\n",
    "try:\n",
    "    bt = serial.Serial('COM9', 9600)  # replace COMx with actual port\n",
    "    # List of coordinates to send\n",
    "    coords = [(450, 0), (450, 450), (0, 450), (0, 0)]\n",
    "\n",
    "    for x, y in coords:\n",
    "        # Wait for \"Target reached!\"\n",
    "        while True:\n",
    "            line = bt.readline().decode().strip()\n",
    "            print(f\"Received: {line}\")\n",
    "            if \"Target reached!\" in line:\n",
    "                print(\"Robot is ready\")\n",
    "                break\n",
    "\n",
    "        # Send next coordinate\n",
    "        msg = f\"{x},{y}\\n\"\n",
    "        bt.write(msg.encode())\n",
    "        print(f\"Sent: {msg.strip()}\")\n",
    "\n",
    "except serial.SerialException as e:\n",
    "    print(f\"Serial port error: {e}\")\n",
    "    \n",
    "except KeyboardInterrupt:\n",
    "    print(\"\\nProgram interrupted by user.\")\n",
    "    bt.close()\n",
    "\n",
    "bt.close()\n"
   ]
  },
  {
   "cell_type": "code",
   "execution_count": null,
   "id": "ee227bb1",
   "metadata": {},
   "outputs": [],
   "source": [
    "bt.close()"
   ]
  },
  {
   "cell_type": "code",
   "execution_count": null,
   "id": "023de37e",
   "metadata": {},
   "outputs": [],
   "source": []
  }
 ],
 "metadata": {
  "kernelspec": {
   "display_name": "Python 3 (ipykernel)",
   "language": "python",
   "name": "python3"
  },
  "language_info": {
   "codemirror_mode": {
    "name": "ipython",
    "version": 3
   },
   "file_extension": ".py",
   "mimetype": "text/x-python",
   "name": "python",
   "nbconvert_exporter": "python",
   "pygments_lexer": "ipython3",
   "version": "3.11.3"
  }
 },
 "nbformat": 4,
 "nbformat_minor": 5
}
